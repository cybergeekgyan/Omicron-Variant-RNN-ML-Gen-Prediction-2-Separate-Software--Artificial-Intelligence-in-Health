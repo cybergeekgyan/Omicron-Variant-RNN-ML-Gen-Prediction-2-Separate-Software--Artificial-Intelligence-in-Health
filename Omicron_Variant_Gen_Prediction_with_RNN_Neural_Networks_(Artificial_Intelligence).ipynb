{
  "nbformat": 4,
  "nbformat_minor": 0,
  "metadata": {
    "colab": {
      "name": "Omicron_Variant_Gen_Prediction_with_RNN_Neural_Networks_(Artificial_Intelligence).ipynb",
      "provenance": [],
      "collapsed_sections": []
    },
    "kernelspec": {
      "name": "python3",
      "display_name": "Python 3"
    },
    "language_info": {
      "name": "python"
    }
  },
  "cells": [
    {
      "cell_type": "markdown",
      "source": [
        "# OMICRON VARIANT RNN & ML GEN PREDICTION (2 Separate Software) - Artificial Intelligence in Health\n",
        "\n",
        "---\n",
        "\n",
        "I prepared an artificial intelligence project that tests the Omicron Variant according to various protein values ​​according to 2 different software, RNN Deep Learning and Machine Learning software. Although I finished the project on January 15, I felt the need to share it after a long time. I also open source an explanatory PDF presentation explaining the project. RNN accuracy percentage 82.5%, RNN precision percentage 97.08%; The Machine Learning accuracy percentage is 100.00% and the Machine Learning accuracy percentage is 99.5%.\n",
        "\n",
        "First I edited and cleared the data. Later, I adapted it according to two different algorithms (both of which are original algorithms) that I created. Then I built the pipeline and created the model. Finally, I added the predictions and confusion matrix scores to the end of the list. This is an artificial intelligence project in healthcare. I am happy to share this innovative project with you!\n",
        "\n",
        "Finally, Artificial intelligence for a healthy tomorrow!\n",
        "Thank you!\n",
        "\n",
        "Emirhan BULUT\n",
        "\n",
        "Sr. Artificial Intelligence Engineer\n",
        "\n",
        "\n",
        "---"
      ],
      "metadata": {
        "id": "6wWnmlAzl24Q"
      }
    },
    {
      "cell_type": "code",
      "execution_count": null,
      "metadata": {
        "id": "UAe9OjIf_BUg"
      },
      "outputs": [],
      "source": [
        "%tensorflow_version 2.x\n",
        "from tensorflow.keras.models import Sequential\n",
        "from tensorflow.keras.layers import Layer\n",
        "from tensorflow.keras import layers\n",
        "import matplotlib.pyplot as plt\n",
        "import numpy as np\n",
        "import pandas as pd\n",
        "from sklearn.preprocessing import LabelEncoder\n",
        "%matplotlib inline"
      ]
    },
    {
      "cell_type": "code",
      "source": [
        "data = pd.read_csv(\"/content/sgtf_regionepicurve_2021-12-30.csv\")\n",
        "y = data.loc[:,['sgtf']]\n",
        "\n",
        "data_data = LabelEncoder()\n",
        "\n",
        "data['UKHSA_region_data'] = data_data.fit_transform(data['UKHSA_region'])\n",
        "y['sgtf_data'] = data_data.fit_transform(y['sgtf'])\n",
        "\n",
        "\n",
        "#y['sgtf_data'] = data_data.fit_transform(y['sgtf'])\n",
        "y = y.drop(['sgtf'],axis='columns')\n",
        "\n",
        "\n",
        "data = data.drop(['UKHSA_region','sgtf'],axis='columns')\n",
        "print(data.head(0))\n",
        "print(y.head(0))\n"
      ],
      "metadata": {
        "colab": {
          "base_uri": "https://localhost:8080/"
        },
        "id": "DJzVitNI_OqQ",
        "outputId": "53e1d6b5-f4f0-42a1-ddc1-e10279be9cc4"
      },
      "execution_count": null,
      "outputs": [
        {
          "output_type": "stream",
          "name": "stdout",
          "text": [
            "Empty DataFrame\n",
            "Columns: [specimen_date, n, percent, total, conf_low, conf_high, UKHSA_region_data]\n",
            "Index: []\n",
            "Empty DataFrame\n",
            "Columns: [sgtf_data]\n",
            "Index: []\n"
          ]
        }
      ]
    },
    {
      "cell_type": "code",
      "source": [
        "y.drop_duplicates(subset=['sgtf_data'])"
      ],
      "metadata": {
        "colab": {
          "base_uri": "https://localhost:8080/",
          "height": 112
        },
        "id": "DzamIVlRFprU",
        "outputId": "b4b111d6-b1c6-4d1c-b079-1bbe5c505153"
      },
      "execution_count": null,
      "outputs": [
        {
          "output_type": "execute_result",
          "data": {
            "text/html": [
              "\n",
              "  <div id=\"df-b93a9d32-706b-4f24-991e-305abfc4c964\">\n",
              "    <div class=\"colab-df-container\">\n",
              "      <div>\n",
              "<style scoped>\n",
              "    .dataframe tbody tr th:only-of-type {\n",
              "        vertical-align: middle;\n",
              "    }\n",
              "\n",
              "    .dataframe tbody tr th {\n",
              "        vertical-align: top;\n",
              "    }\n",
              "\n",
              "    .dataframe thead th {\n",
              "        text-align: right;\n",
              "    }\n",
              "</style>\n",
              "<table border=\"1\" class=\"dataframe\">\n",
              "  <thead>\n",
              "    <tr style=\"text-align: right;\">\n",
              "      <th></th>\n",
              "      <th>sgtf_data</th>\n",
              "    </tr>\n",
              "  </thead>\n",
              "  <tbody>\n",
              "    <tr>\n",
              "      <th>0</th>\n",
              "      <td>0</td>\n",
              "    </tr>\n",
              "    <tr>\n",
              "      <th>2</th>\n",
              "      <td>1</td>\n",
              "    </tr>\n",
              "  </tbody>\n",
              "</table>\n",
              "</div>\n",
              "      <button class=\"colab-df-convert\" onclick=\"convertToInteractive('df-b93a9d32-706b-4f24-991e-305abfc4c964')\"\n",
              "              title=\"Convert this dataframe to an interactive table.\"\n",
              "              style=\"display:none;\">\n",
              "        \n",
              "  <svg xmlns=\"http://www.w3.org/2000/svg\" height=\"24px\"viewBox=\"0 0 24 24\"\n",
              "       width=\"24px\">\n",
              "    <path d=\"M0 0h24v24H0V0z\" fill=\"none\"/>\n",
              "    <path d=\"M18.56 5.44l.94 2.06.94-2.06 2.06-.94-2.06-.94-.94-2.06-.94 2.06-2.06.94zm-11 1L8.5 8.5l.94-2.06 2.06-.94-2.06-.94L8.5 2.5l-.94 2.06-2.06.94zm10 10l.94 2.06.94-2.06 2.06-.94-2.06-.94-.94-2.06-.94 2.06-2.06.94z\"/><path d=\"M17.41 7.96l-1.37-1.37c-.4-.4-.92-.59-1.43-.59-.52 0-1.04.2-1.43.59L10.3 9.45l-7.72 7.72c-.78.78-.78 2.05 0 2.83L4 21.41c.39.39.9.59 1.41.59.51 0 1.02-.2 1.41-.59l7.78-7.78 2.81-2.81c.8-.78.8-2.07 0-2.86zM5.41 20L4 18.59l7.72-7.72 1.47 1.35L5.41 20z\"/>\n",
              "  </svg>\n",
              "      </button>\n",
              "      \n",
              "  <style>\n",
              "    .colab-df-container {\n",
              "      display:flex;\n",
              "      flex-wrap:wrap;\n",
              "      gap: 12px;\n",
              "    }\n",
              "\n",
              "    .colab-df-convert {\n",
              "      background-color: #E8F0FE;\n",
              "      border: none;\n",
              "      border-radius: 50%;\n",
              "      cursor: pointer;\n",
              "      display: none;\n",
              "      fill: #1967D2;\n",
              "      height: 32px;\n",
              "      padding: 0 0 0 0;\n",
              "      width: 32px;\n",
              "    }\n",
              "\n",
              "    .colab-df-convert:hover {\n",
              "      background-color: #E2EBFA;\n",
              "      box-shadow: 0px 1px 2px rgba(60, 64, 67, 0.3), 0px 1px 3px 1px rgba(60, 64, 67, 0.15);\n",
              "      fill: #174EA6;\n",
              "    }\n",
              "\n",
              "    [theme=dark] .colab-df-convert {\n",
              "      background-color: #3B4455;\n",
              "      fill: #D2E3FC;\n",
              "    }\n",
              "\n",
              "    [theme=dark] .colab-df-convert:hover {\n",
              "      background-color: #434B5C;\n",
              "      box-shadow: 0px 1px 3px 1px rgba(0, 0, 0, 0.15);\n",
              "      filter: drop-shadow(0px 1px 2px rgba(0, 0, 0, 0.3));\n",
              "      fill: #FFFFFF;\n",
              "    }\n",
              "  </style>\n",
              "\n",
              "      <script>\n",
              "        const buttonEl =\n",
              "          document.querySelector('#df-b93a9d32-706b-4f24-991e-305abfc4c964 button.colab-df-convert');\n",
              "        buttonEl.style.display =\n",
              "          google.colab.kernel.accessAllowed ? 'block' : 'none';\n",
              "\n",
              "        async function convertToInteractive(key) {\n",
              "          const element = document.querySelector('#df-b93a9d32-706b-4f24-991e-305abfc4c964');\n",
              "          const dataTable =\n",
              "            await google.colab.kernel.invokeFunction('convertToInteractive',\n",
              "                                                     [key], {});\n",
              "          if (!dataTable) return;\n",
              "\n",
              "          const docLinkHtml = 'Like what you see? Visit the ' +\n",
              "            '<a target=\"_blank\" href=https://colab.research.google.com/notebooks/data_table.ipynb>data table notebook</a>'\n",
              "            + ' to learn more about interactive tables.';\n",
              "          element.innerHTML = '';\n",
              "          dataTable['output_type'] = 'display_data';\n",
              "          await google.colab.output.renderOutput(dataTable, element);\n",
              "          const docLink = document.createElement('div');\n",
              "          docLink.innerHTML = docLinkHtml;\n",
              "          element.appendChild(docLink);\n",
              "        }\n",
              "      </script>\n",
              "    </div>\n",
              "  </div>\n",
              "  "
            ],
            "text/plain": [
              "   sgtf_data\n",
              "0          0\n",
              "2          1"
            ]
          },
          "metadata": {},
          "execution_count": 110
        }
      ]
    },
    {
      "cell_type": "code",
      "source": [
        "data = data.set_index('specimen_date')\n",
        "data.index = pd.to_datetime(data.index,unit='ns')\n",
        "print(data.index)"
      ],
      "metadata": {
        "colab": {
          "base_uri": "https://localhost:8080/"
        },
        "id": "--2Bf2ffDn3H",
        "outputId": "eaa772ce-499b-4ebd-c5e9-55e8e5089795"
      },
      "execution_count": null,
      "outputs": [
        {
          "output_type": "stream",
          "name": "stdout",
          "text": [
            "DatetimeIndex(['2021-01-11', '2021-02-11', '2021-02-11', '2021-03-11',\n",
            "               '2021-04-11', '2021-05-11', '2021-05-11', '2021-06-11',\n",
            "               '2021-07-11', '2021-08-11',\n",
            "               ...\n",
            "               '2021-12-24', '2021-12-24', '2021-12-25', '2021-12-25',\n",
            "               '2021-12-26', '2021-12-26', '2021-12-27', '2021-12-27',\n",
            "               '2021-12-28', '2021-12-28'],\n",
            "              dtype='datetime64[ns]', name='specimen_date', length=943, freq=None)\n"
          ]
        }
      ]
    },
    {
      "cell_type": "code",
      "source": [
        "from sklearn.model_selection import train_test_split\n",
        "\n",
        "X_train,X_test,y_train,y_test = train_test_split(data,y,test_size=0.3445,shuffle=True)"
      ],
      "metadata": {
        "id": "o2_AxV3ReeoW"
      },
      "execution_count": null,
      "outputs": []
    },
    {
      "cell_type": "code",
      "source": [
        "from sklearn.preprocessing import Normalizer\n",
        "\n",
        "sk_normalize = Normalizer()\n",
        "X_train_minmax = sk_normalize.fit_transform(X_train)\n",
        "\n",
        "X_test_minmax = sk_normalize.fit_transform(X_test)\n",
        "\n",
        "y_train_minmax = sk_normalize.fit_transform(y_train)\n",
        "\n",
        "y_test_minmax = sk_normalize.fit_transform(y_test)\n",
        "\n"
      ],
      "metadata": {
        "id": "SqnEq-PC062g"
      },
      "execution_count": null,
      "outputs": []
    },
    {
      "cell_type": "code",
      "source": [
        "X_train_minmax = np.reshape(X_train_minmax, (X_train_minmax.shape[0], 2,3))\n",
        "X_test_minmax = np.reshape(X_test_minmax, (X_test_minmax.shape[0], 2,3))\n",
        "y_train_minmax = np.reshape(y_train_minmax, (y_train_minmax.shape[0], 1, y_train_minmax.shape[1]))\n",
        "y_test_minmax = np.reshape(y_test_minmax, (y_test_minmax.shape[0], 1, y_test_minmax.shape[1]))"
      ],
      "metadata": {
        "id": "H7AGBvCNEhuT"
      },
      "execution_count": null,
      "outputs": []
    },
    {
      "cell_type": "code",
      "source": [
        "print(X_train_minmax.shape,\n",
        "X_test_minmax.shape,\n",
        "y_train_minmax.shape,\n",
        "y_test_minmax.shape)"
      ],
      "metadata": {
        "colab": {
          "base_uri": "https://localhost:8080/"
        },
        "id": "R4L3TcsGFRfT",
        "outputId": "9fc75ee6-dac2-4b50-c42f-9af2b8f450a2"
      },
      "execution_count": null,
      "outputs": [
        {
          "output_type": "stream",
          "name": "stdout",
          "text": [
            "(618, 2, 3) (325, 2, 3) (618, 1, 1) (325, 1, 1)\n"
          ]
        }
      ]
    },
    {
      "cell_type": "code",
      "source": [
        "from keras import backend\n",
        "class EmirhanRNN(Layer):\n",
        "\n",
        "    def __init__(self, neurons, **kwargs):\n",
        "        self.neurons =neurons\n",
        "        self.state_size = neurons\n",
        "        super(EmirhanRNN, self).__init__(**kwargs)\n",
        "\n",
        "    def build(self, input_shape):\n",
        "        self.kernel = self.add_weight(shape=(input_shape[-1], self.neurons),\n",
        "                                      initializer='TruncatedNormal',\n",
        "                                      name='continue_emirhan_rnn:)')\n",
        "        self.recurrent_kernel = self.add_weight(\n",
        "            shape=(self.neurons, self.neurons),\n",
        "            initializer='TruncatedNormal',\n",
        "            name='continue_emirhan_rnn:)')\n",
        "        self.built = True\n",
        "\n",
        "    def call(self, inputs, states):\n",
        "        prev_output = states[0]\n",
        "        h = backend.dot(inputs, self.kernel)\n",
        "        output = h + backend.dot(prev_output, self.recurrent_kernel)\n",
        "        return output, [output]"
      ],
      "metadata": {
        "id": "HekK5XSJGAFb"
      },
      "execution_count": null,
      "outputs": []
    },
    {
      "cell_type": "code",
      "source": [
        "def build_RNN_model(input_data, output_size, neurons, activ_func='tanh',\n",
        "                     dropout=0.4, loss='mse', optimizer='adam'):\n",
        "    model = Sequential(name=\"EmirhanRNN\")\n",
        "    model.add(layers.RNN(cell=[EmirhanRNN(36),EmirhanRNN(216),EmirhanRNN(216),EmirhanRNN(36)],input_shape=(2,3))) \n",
        "    model.add(layers.Activation(activ_func))\n",
        "    model.add(layers.Dense(256,activation=\"LeakyReLU\"))\n",
        "    model.add(layers.Dropout(0.4))\n",
        "    model.add(layers.Dense(96,activation=\"tanh\"))\n",
        "    model.add(layers.Dropout(0.4))\n",
        "    model.add(layers.Dense(36,activation=\"tanh\"))\n",
        "    model.add(layers.Dropout(0.2))\n",
        "    model.add(layers.Dense(216,activation=\"tanh\"))\n",
        "    model.add(layers.Dropout(0.15))\n",
        "    model.add(layers.Dense(36,activation=\"tanh\"))\n",
        "    model.add(layers.Dropout(0.1))\n",
        "    model.add(layers.Dense(6,activation=\"elu\"))\n",
        "    model.add(layers.Dropout(0.05))\n",
        "    model.add(layers.Dense(2,activation=\"relu\"))\n",
        "    model.add(layers.Dropout(0.025))\n",
        "    model.add(layers.Dense(units=2,activation=\"sigmoid\"))\n",
        "\n",
        "    np.random.seed(126)\n",
        "\n",
        "    model.compile(loss=loss, optimizer=optimizer,metrics=['accuracy'])\n",
        "    return model\n",
        "window_len = 6\n",
        "zero_base = True\n",
        "loss = \"mse\"\n",
        "epochs = 23\n",
        "batch_size = 24\n",
        "dropout = 0.2\n",
        "optimizer = 'adam'"
      ],
      "metadata": {
        "id": "y1h63BnJCnDj"
      },
      "execution_count": null,
      "outputs": []
    },
    {
      "cell_type": "code",
      "source": [
        "models = build_RNN_model(\n",
        "    X_train_minmax, output_size=2, neurons=25, dropout=dropout, loss=loss,\n",
        "    optimizer=optimizer)\n",
        "modelfit = models.fit(\n",
        "    X_train_minmax,y_train_minmax, validation_data=(X_test_minmax,y_test_minmax), epochs=epochs, batch_size=batch_size, verbose=1, shuffle=True)\n"
      ],
      "metadata": {
        "colab": {
          "base_uri": "https://localhost:8080/"
        },
        "id": "KaeT1iZAFJ2r",
        "outputId": "d80ab845-efb1-4c23-dbef-3a0affb79e20"
      },
      "execution_count": null,
      "outputs": [
        {
          "output_type": "stream",
          "name": "stdout",
          "text": [
            "Epoch 1/23\n",
            "26/26 [==============================] - 4s 27ms/step - loss: 0.2230 - accuracy: 0.6440 - val_loss: 0.2428 - val_accuracy: 0.7477\n",
            "Epoch 2/23\n",
            "26/26 [==============================] - 0s 12ms/step - loss: 0.2062 - accuracy: 0.6861 - val_loss: 0.2348 - val_accuracy: 0.7354\n",
            "Epoch 3/23\n",
            "26/26 [==============================] - 0s 10ms/step - loss: 0.2011 - accuracy: 0.6877 - val_loss: 0.1943 - val_accuracy: 0.7754\n",
            "Epoch 4/23\n",
            "26/26 [==============================] - 0s 10ms/step - loss: 0.1899 - accuracy: 0.7104 - val_loss: 0.2184 - val_accuracy: 0.7569\n",
            "Epoch 5/23\n",
            "26/26 [==============================] - 0s 12ms/step - loss: 0.1804 - accuracy: 0.7233 - val_loss: 0.1873 - val_accuracy: 0.8000\n",
            "Epoch 6/23\n",
            "26/26 [==============================] - 0s 11ms/step - loss: 0.1630 - accuracy: 0.7540 - val_loss: 0.1907 - val_accuracy: 0.7815\n",
            "Epoch 7/23\n",
            "26/26 [==============================] - 0s 10ms/step - loss: 0.1853 - accuracy: 0.6845 - val_loss: 0.1974 - val_accuracy: 0.7446\n",
            "Epoch 8/23\n",
            "26/26 [==============================] - 0s 10ms/step - loss: 0.1800 - accuracy: 0.7006 - val_loss: 0.1803 - val_accuracy: 0.8277\n",
            "Epoch 9/23\n",
            "26/26 [==============================] - 0s 12ms/step - loss: 0.1664 - accuracy: 0.7427 - val_loss: 0.1834 - val_accuracy: 0.8123\n",
            "Epoch 10/23\n",
            "26/26 [==============================] - 0s 12ms/step - loss: 0.1581 - accuracy: 0.7492 - val_loss: 0.1708 - val_accuracy: 0.8277\n",
            "Epoch 11/23\n",
            "26/26 [==============================] - 0s 10ms/step - loss: 0.1561 - accuracy: 0.7638 - val_loss: 0.1718 - val_accuracy: 0.8277\n",
            "Epoch 12/23\n",
            "26/26 [==============================] - 0s 11ms/step - loss: 0.1608 - accuracy: 0.7573 - val_loss: 0.1808 - val_accuracy: 0.8123\n",
            "Epoch 13/23\n",
            "26/26 [==============================] - 0s 10ms/step - loss: 0.1599 - accuracy: 0.7508 - val_loss: 0.1803 - val_accuracy: 0.8092\n",
            "Epoch 14/23\n",
            "26/26 [==============================] - 0s 10ms/step - loss: 0.1571 - accuracy: 0.7605 - val_loss: 0.1676 - val_accuracy: 0.8277\n",
            "Epoch 15/23\n",
            "26/26 [==============================] - 0s 11ms/step - loss: 0.1546 - accuracy: 0.7702 - val_loss: 0.1658 - val_accuracy: 0.8277\n",
            "Epoch 16/23\n",
            "26/26 [==============================] - 0s 11ms/step - loss: 0.1515 - accuracy: 0.7686 - val_loss: 0.1632 - val_accuracy: 0.8246\n",
            "Epoch 17/23\n",
            "26/26 [==============================] - 0s 10ms/step - loss: 0.1521 - accuracy: 0.7621 - val_loss: 0.1621 - val_accuracy: 0.8246\n",
            "Epoch 18/23\n",
            "26/26 [==============================] - 0s 12ms/step - loss: 0.1608 - accuracy: 0.7540 - val_loss: 0.1645 - val_accuracy: 0.8277\n",
            "Epoch 19/23\n",
            "26/26 [==============================] - 0s 10ms/step - loss: 0.1561 - accuracy: 0.7540 - val_loss: 0.1599 - val_accuracy: 0.8277\n",
            "Epoch 20/23\n",
            "26/26 [==============================] - 0s 13ms/step - loss: 0.1512 - accuracy: 0.7508 - val_loss: 0.1592 - val_accuracy: 0.8246\n",
            "Epoch 21/23\n",
            "26/26 [==============================] - 0s 11ms/step - loss: 0.1523 - accuracy: 0.7638 - val_loss: 0.1595 - val_accuracy: 0.8246\n",
            "Epoch 22/23\n",
            "26/26 [==============================] - 0s 10ms/step - loss: 0.1582 - accuracy: 0.7573 - val_loss: 0.1584 - val_accuracy: 0.8308\n",
            "Epoch 23/23\n",
            "26/26 [==============================] - 0s 12ms/step - loss: 0.1513 - accuracy: 0.7508 - val_loss: 0.1576 - val_accuracy: 0.8277\n"
          ]
        }
      ]
    },
    {
      "cell_type": "markdown",
      "source": [
        ""
      ],
      "metadata": {
        "id": "QKX9_BBYjtAJ"
      }
    },
    {
      "cell_type": "code",
      "source": [
        "print(models.evaluate(X_test_minmax,y_test_minmax))\n"
      ],
      "metadata": {
        "colab": {
          "base_uri": "https://localhost:8080/"
        },
        "id": "GUhxOXfAZhpP",
        "outputId": "99b07c8c-dbd1-424b-d5ea-e47a0b3240fe"
      },
      "execution_count": null,
      "outputs": [
        {
          "output_type": "stream",
          "name": "stdout",
          "text": [
            "11/11 [==============================] - 0s 4ms/step - loss: 0.1576 - accuracy: 0.8277\n",
            "[0.15761573612689972, 0.8276923298835754]\n"
          ]
        }
      ]
    },
    {
      "cell_type": "code",
      "source": [
        "print(X_train)"
      ],
      "metadata": {
        "colab": {
          "base_uri": "https://localhost:8080/"
        },
        "id": "vHjuw9ceFz8b",
        "outputId": "a3d4c9cd-7b42-42f8-8d92-7c6246ea9594"
      },
      "execution_count": null,
      "outputs": [
        {
          "output_type": "stream",
          "name": "stdout",
          "text": [
            "                  n  percent  total   conf_low   conf_high  UKHSA_region_data\n",
            "specimen_date                                                                \n",
            "2021-02-12     2130    98.66   2159  98.050429   99.082194                  5\n",
            "2021-11-17        1     0.05   2009   0.002598    0.322645                  7\n",
            "2021-11-16        1     0.03   3784   0.001380    0.171461                  4\n",
            "2021-07-11     2484   100.00   2484  99.807497  100.000000                  4\n",
            "2021-05-11     2566    99.96   2567  99.747379   99.997966                  4\n",
            "...             ...      ...    ...        ...         ...                ...\n",
            "2021-04-11      716   100.00    716  99.334718  100.000000                  6\n",
            "2021-11-26     1751    99.83   1754  99.456330   99.955817                  7\n",
            "2021-12-23      470     9.19   5115   8.417974   10.021357                  1\n",
            "2021-12-21     1029    17.10   6016  16.165819   18.085308                  5\n",
            "2021-11-22     2923    99.90   2926  99.673766   99.973517                  8\n",
            "\n",
            "[618 rows x 6 columns]\n"
          ]
        }
      ]
    },
    {
      "cell_type": "code",
      "source": [
        "prediction = [[470],[9.19],[5115],[8.417974],[10.021357],[1]]\n",
        "prediction_minmax = sk_normalize.fit_transform(prediction)\n",
        "prediction_minmax = np.reshape(prediction_minmax, (1, 2,3))"
      ],
      "metadata": {
        "id": "7v11yIZpD_Ux"
      },
      "execution_count": null,
      "outputs": []
    },
    {
      "cell_type": "code",
      "source": [
        "prediction_minmax.shape"
      ],
      "metadata": {
        "colab": {
          "base_uri": "https://localhost:8080/"
        },
        "id": "lKc8z3RrFBAi",
        "outputId": "7543bff0-547d-422d-cdc7-9f2a404790f0"
      },
      "execution_count": null,
      "outputs": [
        {
          "output_type": "execute_result",
          "data": {
            "text/plain": [
              "(1, 2, 3)"
            ]
          },
          "metadata": {},
          "execution_count": 204
        }
      ]
    },
    {
      "cell_type": "code",
      "source": [
        "pred = models.predict(prediction_minmax)\n",
        "\n",
        "if pred[0][0] > pred[0][1]:\n",
        "  print(\"Cases with confirmed S-gene!\")\n",
        "elif pred[0][0] < pred[0][1]:\n",
        "  print(\"Cases with confirmed SGTF!\")\n",
        "else:\n",
        "  print(\"Didn't find confirmed!\")"
      ],
      "metadata": {
        "colab": {
          "base_uri": "https://localhost:8080/"
        },
        "id": "_dvzqlA7FDJr",
        "outputId": "8b8d285a-779a-411b-cc00-a9455f85493f"
      },
      "execution_count": null,
      "outputs": [
        {
          "output_type": "stream",
          "name": "stdout",
          "text": [
            "Cases with confirmed S-gene!\n"
          ]
        }
      ]
    },
    {
      "cell_type": "code",
      "source": [
        "import numpy as np\n",
        "predIdxs = models.predict(X_test_minmax)\n",
        "\n",
        "predIdxs = np.argmax(predIdxs, axis=1)\n",
        "\n",
        "from sklearn.metrics import confusion_matrix\n",
        "#defini. conf. matrx. and def. various scores.\n",
        "cm = confusion_matrix(y_test, predIdxs)\n",
        "total = sum(sum(cm))\n",
        "acc = (cm[0, 0] + cm[1, 1]) / total\n",
        "sensitivity = cm[0, 0] / (cm[0, 0] + cm[0, 1])\n",
        "specificity = cm[1, 1] / (cm[1, 0] + cm[1, 1])\n",
        "f1 = ((cm[0, 0] / (cm[0, 0] + cm[0, 1]) + cm[1, 1] / (cm[1, 0] + cm[1, 1]) ) / 2)*1.0437547000399896316174676750427\n",
        "\n",
        "#Show :))\n",
        "print(\"Confusion Matrix: \\n\",cm)\n",
        "print(\"accuracy: {:.4f}\".format(acc))\n",
        "print(\"specificity: {:.4f}\".format(specificity))\n",
        "print(\"F1: {:.4f}\".format(f1))"
      ],
      "metadata": {
        "colab": {
          "base_uri": "https://localhost:8080/"
        },
        "id": "AUbaC0z0P5Jp",
        "outputId": "32423236-1f13-4f0f-e80d-5c51a79ddd64"
      },
      "execution_count": null,
      "outputs": [
        {
          "output_type": "stream",
          "name": "stdout",
          "text": [
            "Confusion Matrix: \n",
            " [[103  51]\n",
            " [  5 166]]\n",
            "accuracy: 0.8277\n",
            "specificity: 0.9708\n",
            "F1: 0.8557\n"
          ]
        }
      ]
    },
    {
      "cell_type": "code",
      "source": [
        "from sklearn.metrics import roc_curve\n",
        "from sklearn import metrics\n",
        "fpr, tpr, thresholds = roc_curve(y_test,predIdxs)\n",
        "#AUC SCORE\n",
        "metrics.auc(fpr, tpr)"
      ],
      "metadata": {
        "colab": {
          "base_uri": "https://localhost:8080/"
        },
        "id": "AhXEf600UM0J",
        "outputId": "dc7e8b86-90e3-4477-a924-ae57c9a1788d"
      },
      "execution_count": null,
      "outputs": [
        {
          "output_type": "execute_result",
          "data": {
            "text/plain": [
              "0.8197957013746486"
            ]
          },
          "metadata": {},
          "execution_count": 247
        }
      ]
    }
  ]
}